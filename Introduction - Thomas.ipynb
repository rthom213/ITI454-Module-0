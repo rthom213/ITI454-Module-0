{
 "cells": [
  {
   "cell_type": "markdown",
   "id": "04855117",
   "metadata": {},
   "source": [
    "# My name is Rasmi Thomas\n",
    "## I am a Research Scientist\n",
    "### I like hiking and baking"
   ]
  }
 ],
 "metadata": {
  "kernelspec": {
   "display_name": "Python 3 (ipykernel)",
   "language": "python",
   "name": "python3"
  },
  "language_info": {
   "codemirror_mode": {
    "name": "ipython",
    "version": 3
   },
   "file_extension": ".py",
   "mimetype": "text/x-python",
   "name": "python",
   "nbconvert_exporter": "python",
   "pygments_lexer": "ipython3",
   "version": "3.9.13"
  }
 },
 "nbformat": 4,
 "nbformat_minor": 5
}
